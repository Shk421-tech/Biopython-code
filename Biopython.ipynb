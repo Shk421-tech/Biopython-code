{
 "cells": [
  {
   "cell_type": "code",
   "execution_count": 10,
   "id": "a325aa32-909e-415b-86c8-4ae45d09f423",
   "metadata": {},
   "outputs": [
    {
     "name": "stdout",
     "output_type": "stream",
     "text": [
      "AH013304.2\n",
      "Seq('TGAGAACGCTGGAGACTTCCTGAGGTCTTTCAGGATGCACCGGATCATGCGGGA...GGT')\n",
      "8191\n"
     ]
    }
   ],
   "source": [
    "from Bio import SeqIO\n",
    "\n",
    "for seq_record in SeqIO.parse(r\"C:\\Users\\baboo\\Documents\\508 ASSN\\genome.fasta\", \"fasta\"):\n",
    "    print(seq_record.id)\n",
    "    print(repr(seq_record.seq))\n",
    "    print(len(seq_record))"
   ]
  },
  {
   "cell_type": "code",
   "execution_count": 18,
   "id": "bb8895eb-8185-4a77-b332-49c6380d486a",
   "metadata": {},
   "outputs": [
    {
     "name": "stdout",
     "output_type": "stream",
     "text": [
      "65.0\n",
      "target            0 ATTTG-C----A--AATG--CCCTAG--GGCA--- 21\n",
      "                  0 ||--|-|----|--|-|---||--||--|--|--- 35\n",
      "query             0 AT--GGCCGGGAGGA-T-TACC--AGATG--ATTA 27\n",
      "\n"
     ]
    }
   ],
   "source": [
    "#to do pairwise alignment of given sequence\n",
    "from Bio import SeqIO\n",
    "from Bio import Align\n",
    "target = \"ATTTGCAAATGCCCTAGGGCA\"\n",
    "query = \"ATGGCCGGGAGGATTACCAGATGATTA\"\n",
    "aligner = Align.PairwiseAligner()\n",
    "aligner.match_score = 5.0\n",
    "score = aligner.score(target, query)\n",
    "print(score)\n",
    "alignments = aligner.align(target, query)\n",
    "alignment = alignments[0]\n",
    "print(alignment)"
   ]
  },
  {
   "cell_type": "code",
   "execution_count": 26,
   "id": "9df49f07-7902-4ddf-a327-45b9a3ac49e1",
   "metadata": {},
   "outputs": [
    {
     "name": "stdout",
     "output_type": "stream",
     "text": [
      "5065.0\n",
      "2102.0\n"
     ]
    }
   ],
   "source": [
    "#to do a local alignment of fasta sequence and get alignment score\n",
    "\n",
    "from Bio import Align\n",
    "from Bio import SeqIO\n",
    "seq1 = SeqIO.read(r\"C:\\Users\\baboo\\Documents\\508 ASSN\\chl a.fasta\", \"fasta\")\n",
    "seq2 = SeqIO.read(r\"C:\\Users\\baboo\\Documents\\508 ASSN\\cl b.fasta\", \"fasta\")\n",
    "aligner = Align.PairwiseAligner()\n",
    "score = aligner.score(seq1.seq, seq2.seq)\n",
    "print(score)\n",
    "aligner.mode = \"local\"\n",
    "aligner.open_gap_score = -10\n",
    "aligner.extend_gap_score = -1\n",
    "alignments = aligner.align(seq1.seq, seq2.seq)\n",
    "print(alignments.score)"
   ]
  },
  {
   "cell_type": "code",
   "execution_count": 31,
   "id": "da41f10d-5891-4d24-b087-5fe024f497ed",
   "metadata": {},
   "outputs": [
    {
     "name": "stdout",
     "output_type": "stream",
     "text": [
      "NCBI Search Results: ['PQ374210.1', 'PQ337267.1', 'PQ320120.1', 'PQ306159.1', 'PQ306158.1', 'PQ306157.1', 'PQ306156.1', 'PQ306155.1', 'PQ306154.1', 'PQ306153.1', 'PQ306152.1', 'PQ306151.1', 'PQ306150.1', 'PQ306149.1', 'PQ306148.1', 'PQ306146.1', 'PQ306142.1', 'PQ306137.1', 'PQ306136.1', 'PQ306129.1']\n"
     ]
    }
   ],
   "source": [
    "#accessing entrez database for required nucleotide\n",
    "from Bio import Entrez\n",
    "\n",
    "Entrez.email = \"shikha.baboo@gmail.com\"\n",
    "handle = Entrez.esearch(db=\"nucleotide\", term=\"Homo sapiens[Organism] AND COX1[Gene]\", idtype=\"acc\")\n",
    "record = Entrez.read(handle)\n",
    "record[\"Count\"]\n",
    "print(\"NCBI Search Results:\", record[\"IdList\"])\n"
   ]
  },
  {
   "cell_type": "code",
   "execution_count": 32,
   "id": "cd72b37c-bd9d-42f4-9e9a-a7757fe5a8bc",
   "metadata": {},
   "outputs": [
    {
     "name": "stdout",
     "output_type": "stream",
     "text": [
      "Protein Description: RecName: Full=Aspartate aminotransferase, mitochondrial; Short=mAspAT; EC=2.6.1.1 {ECO:0000250|UniProtKB:P00507}; EC=2.6.1.7 {ECO:0000250|UniProtKB:P00507}; AltName: Full=Fatty acid-binding protein; Short=FABP-1; AltName: Full=Glutamate oxaloacetate transaminase 2; AltName: Full=Kynurenine aminotransferase 4; AltName: Full=Kynurenine aminotransferase IV; AltName: Full=Kynurenine--oxoglutarate transaminase 4; AltName: Full=Kynurenine--oxoglutarate transaminase IV; AltName: Full=Plasma membrane-associated fatty acid-binding protein; Short=FABPpm; AltName: Full=Transaminase A; Flags: Precursor;\n"
     ]
    }
   ],
   "source": [
    "from Bio import ExPASy\n",
    "from Bio import SwissProt\n",
    "\n",
    "# Fetching a SwissProt record by ID\n",
    "handle = ExPASy.get_sprot_raw(\"P12345\")\n",
    "record = SwissProt.read(handle)\n",
    "print(\"Protein Description:\", record.description)\n"
   ]
  },
  {
   "cell_type": "code",
   "execution_count": 33,
   "id": "de621f39-b5ea-4d47-898c-592ddb73401a",
   "metadata": {},
   "outputs": [
    {
     "name": "stdout",
     "output_type": "stream",
     "text": [
      "Motif Consensus: ACGA\n"
     ]
    }
   ],
   "source": [
    "from Bio import motifs\n",
    "from Bio.Seq import Seq\n",
    "\n",
    "# Create a motif from sequences\n",
    "sequences = [Seq(\"ACGT\"), Seq(\"ACGG\"), Seq(\"ACGA\")]\n",
    "motif = motifs.create(sequences)\n",
    "print(\"Motif Consensus:\", motif.consensus)\n"
   ]
  },
  {
   "cell_type": "code",
   "execution_count": 9,
   "id": "25e73ce0-1ecb-49ef-83c5-3176d3032020",
   "metadata": {},
   "outputs": [
    {
     "data": {
      "text/plain": [
       "b'PK\\x03\\x04\\x14\\x00\\x08\\x08\\x08\\x00'"
      ]
     },
     "execution_count": 9,
     "metadata": {},
     "output_type": "execute_result"
    }
   ],
   "source": [
    "from Bio import SeqIO\n",
    "from Bio import Blast\n",
    "fasta_sequences = SeqIO.read(r\"C:\\Users\\baboo\\Documents\\508 ASSN\\genome.fasta\", \"fasta\")\n",
    "#BLAST Search for Each Sequence\n",
    "result_stream = Blast.qblast(\"blastn\", \"nt\", record.seq, format_type=\"JSON2\")\n",
    "data = result_stream.read()\n",
    "data[:10]"
   ]
  },
  {
   "cell_type": "code",
   "execution_count": 37,
   "id": "964c3387-544e-4ea7-93b6-31983e800725",
   "metadata": {},
   "outputs": [
    {
     "name": "stdout",
     "output_type": "stream",
     "text": [
      "ACCGT\n",
      "| || \n",
      "A-CG-\n",
      "  Score=3\n",
      "\n",
      "ACCGT\n",
      "|| | \n",
      "AC-G-\n",
      "  Score=3\n",
      "\n"
     ]
    }
   ],
   "source": [
    "from Bio import pairwise2\n",
    "from Bio.pairwise2 import format_alignment\n",
    "\n",
    "seq1 = \"ACCGT\"\n",
    "seq2 = \"ACG\"\n",
    "\n",
    "# Perform a global alignment\n",
    "alignments = pairwise2.align.globalxx(seq1, seq2)\n",
    "\n",
    "# Print each alignment\n",
    "for alignment in alignments:\n",
    "    print(format_alignment(*alignment))\n"
   ]
  },
  {
   "cell_type": "code",
   "execution_count": 43,
   "id": "11d4e649-4979-49c6-a2d4-a6d9ea7a5f87",
   "metadata": {},
   "outputs": [
    {
     "name": "stdout",
     "output_type": "stream",
     "text": [
      "Entry Name: TRBM_HUMAN\n",
      "Protein Name: RecName: Full=Thrombomodulin; Short=TM; AltName: Full=Fetomodulin; AltName: CD_antigen=CD141; Flags: Precursor;\n",
      "Organism: Homo sapiens (Human).\n",
      "Sequence Length: 575\n",
      "\n",
      "Sequence:\n",
      " MLGVLVLGALALAGLGFPAPAEPQPGGSQCVEHDCFALYPGPATFLNASQICDGLRGHLMTVRSSVAADVISLLLNGDGGVGRRRLWIGLQLPPGCGDPKRLGPLRGFQWVTGDNNTSYSRWARLDLNGAPLCGPLCVAVSAAEATVPSEPIWEEQQCEVKADGFLCEFHFPATCRPLAVEPGAAAAAVSITYGTPFAARGADFQALPVGSSAAVAPLGLQLMCTAPPGAVQGHWAREAPGAWDCSVENGGCEHACNAIPGAPRCQCPAGAALQADGRSCTASATQSCNDLCEHFCVPNPDQPGSYSCMCETGYRLAADQHRCEDVDDCILEPSPCPQRCVNTQGGFECHCYPNYDLVDGECVEPVDPCFRANCEYQCQPLNQTSYLCVCAEGFAPIPHEPHRCQMFCNQTACPADCDPNTQASCECPEGYILDDGFICTDIDECENGGFCSGVCHNLPGTFECICGPDSALARHIGTDCDSGKVDGGDSGSGEPPPSPTPGSTLTPPAVGLVHSGLLIGISIASLCLVVALLALLCHLRKKQGAARAKMEYKCAAPSKEVVLQHVRTERTPQRL\n",
      "\n",
      "Cross References:\n",
      "('EMBL', 'X05495', 'CAA29045.1', '-', 'mRNA')\n",
      "('EMBL', 'M16552', 'AAB59508.1', '-', 'mRNA')\n",
      "('EMBL', 'J02973', 'AAA61175.1', '-', 'Genomic_DNA')\n",
      "('EMBL', 'D00210', 'BAA00149.1', '-', 'Genomic_DNA')\n",
      "('EMBL', 'AF495471', 'AAM03232.1', '-', 'Genomic_DNA')\n"
     ]
    }
   ],
   "source": [
    "from Bio import ExPASy\n",
    "from Bio import SwissProt\n",
    "\n",
    "# Enter the UniProt accession number\n",
    "accession = \"P07204\"  # Example: accession number for human insulin\n",
    "\n",
    "# Connect to ExPASy and fetch the SwissProt record\n",
    "with ExPASy.get_sprot_raw(accession) as handle:\n",
    "    record = SwissProt.read(handle)\n",
    "\n",
    "# Print basic details about the protein\n",
    "print(\"Entry Name:\", record.entry_name)\n",
    "print(\"Protein Name:\", record.description)\n",
    "print(\"Organism:\", record.organism)\n",
    "print(\"Sequence Length:\", record.sequence_length)\n",
    "print(\"\\nSequence:\\n\", record.sequence)\n",
    "\n",
    "# Print some cross-references (like those to PDB, GO, etc.)\n",
    "print(\"\\nCross References:\")\n",
    "for reference in record.cross_references[:5]:  # Displaying first 5 cross-references\n",
    "    print(reference)\n"
   ]
  },
  {
   "cell_type": "code",
   "execution_count": 53,
   "id": "7bfbd781-5e42-4dc7-80e3-1b5e7e42ee56",
   "metadata": {},
   "outputs": [
    {
     "name": "stdout",
     "output_type": "stream",
     "text": [
      "Enzyme ID: 5.4.2.2\n",
      "Enzyme Name(s): phosphoglucomutase (alpha-D-glucose-1,6-bisphosphate-dependent), glucose phosphomutase (ambiguous), phosphoglucose mutase (ambiguous)\n",
      "Enzyme Class: Isomerases;, Intramolecular transferases;, Phosphotransferases (phosphomutases)\n",
      "Reactions Catalyzed:\n",
      "  - alpha-D-glucose 1-phosphate = D-glucose 6-phosphate [RN:R08639]\n"
     ]
    }
   ],
   "source": [
    "from Bio.KEGG import Enzyme\n",
    "records = Enzyme.parse(open(r\"C:\\Users\\baboo\\Documents\\508 ASSN\\keggfile.txt\"))\n",
    "record = list(records)[0]\n",
    "record.classname\n",
    "# Enzyme ID (EC Number)\n",
    "print(\"Enzyme ID:\", record.entry)\n",
    "\n",
    "# Enzyme Name(s)\n",
    "print(\"Enzyme Name(s):\", \", \".join(record.name))\n",
    "\n",
    "# Enzyme Classification\n",
    "print(\"Enzyme Class:\", \", \".join(record.classname))\n",
    "\n",
    "# Reaction(s) catalyzed by this enzyme\n",
    "if record.reaction:\n",
    "    print(\"Reactions Catalyzed:\")\n",
    "    for reaction in record.reaction:\n",
    "        print(f\"  - {reaction}\")\n",
    "else:\n",
    "    print(\"No reactions listed.\")\n"
   ]
  },
  {
   "cell_type": "code",
   "execution_count": null,
   "id": "315c5e4a-f094-4436-a41b-03096402da57",
   "metadata": {},
   "outputs": [],
   "source": []
  }
 ],
 "metadata": {
  "kernelspec": {
   "display_name": "Python 3 (ipykernel)",
   "language": "python",
   "name": "python3"
  },
  "language_info": {
   "codemirror_mode": {
    "name": "ipython",
    "version": 3
   },
   "file_extension": ".py",
   "mimetype": "text/x-python",
   "name": "python",
   "nbconvert_exporter": "python",
   "pygments_lexer": "ipython3",
   "version": "3.12.3"
  }
 },
 "nbformat": 4,
 "nbformat_minor": 5
}
